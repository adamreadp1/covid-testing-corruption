{
 "cells": [
  {
   "cell_type": "code",
   "execution_count": null,
   "source": [
    "!pip install pandas\r\n",
    "!pip install fuzzywuzzy\r\n",
    "\r\n",
    "import pandas as pd\r\n",
    "from fuzzywuzzy.fuzz import partial_ratio"
   ],
   "outputs": [],
   "metadata": {}
  },
  {
   "cell_type": "code",
   "execution_count": null,
   "source": [
    "# produce risk score based on price data\r\n",
    "grouped_price = pd.read_csv('./datasets/aggregated-details/grouped_details.csv')\r\n",
    "price_cols = [x for x in grouped_price if 'price' in x]\r\n",
    "\r\n",
    "\r\n",
    "price_details = pd.DataFrame(columns=['num_matches', 'num_jumps', 'max_change'])\r\n",
    "for company in grouped_price['company_name']:\r\n",
    "    print(company)   \r\n",
    "    fuzzy_matches = [ind for ind in grouped_price.index if partial_ratio(company, grouped_price['company_name'][ind])>=90]\r\n",
    "\r\n",
    "    matched_rows = grouped_price.loc[fuzzy_matches][price_cols]\r\n",
    "    mean_prices = matched_rows.mean(axis=0).dropna()\r\n",
    "\r\n",
    "    num_jumps = max_change = 0\r\n",
    "    prev_price = mean_prices[0]\r\n",
    "    for price in mean_prices[1:]:\r\n",
    "        if prev_price != price:\r\n",
    "            num_jumps += 1\r\n",
    "            change = abs((price - prev_price)/prev_price)\r\n",
    "\r\n",
    "            if  change > max_change:\r\n",
    "                max_change = change\r\n",
    "        \r\n",
    "        prev_price = price\r\n",
    "\r\n",
    "    price_details = price_details.append({\r\n",
    "        'num_matches': len(fuzzy_matches), \r\n",
    "        'num_jumps': num_jumps,\r\n",
    "        'max_change': max_change*100\r\n",
    "    }, ignore_index=True)\r\n",
    "\r\n",
    "\r\n",
    "price_details['company_name'] = grouped_price['company_name']\r\n",
    "price_details.to_csv('./datasets/indicators/price_details.csv', index=False)"
   ],
   "outputs": [],
   "metadata": {}
  }
 ],
 "metadata": {
  "orig_nbformat": 4,
  "language_info": {
   "name": "python",
   "version": "3.9.7",
   "mimetype": "text/x-python",
   "codemirror_mode": {
    "name": "ipython",
    "version": 3
   },
   "pygments_lexer": "ipython3",
   "nbconvert_exporter": "python",
   "file_extension": ".py"
  },
  "kernelspec": {
   "name": "python3",
   "display_name": "Python 3.9.7  ('covid_corruption_venv': venv)"
  },
  "interpreter": {
   "hash": "5f8aec9e558577a87b5b61cddb74ed49406d2acbe45acb8a6a200a35f976c5eb"
  }
 },
 "nbformat": 4,
 "nbformat_minor": 2
}