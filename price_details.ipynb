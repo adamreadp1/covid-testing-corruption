{
 "cells": [
  {
   "cell_type": "code",
   "execution_count": null,
   "source": [
    "!pip install pandas\r\n",
    "!pip install fuzzywuzzy"
   ],
   "outputs": [],
   "metadata": {}
  },
  {
   "cell_type": "code",
   "execution_count": 3,
   "source": [
    "# obtain and group historical price data\r\n",
    "import pandas as pd\r\n",
    "import os\r\n",
    "\r\n",
    "root = \"./datasets/historical_prices/\"\r\n",
    "historical_price = pd.DataFrame(columns=['company_name'])\r\n",
    "\r\n",
    "for file in os.listdir(root):\r\n",
    "    df = pd.read_csv(root + file)\r\n",
    "    df['company_name'] = df['company_name'].str.lower()\r\n",
    "\r\n",
    "    historical_price = pd.merge(historical_price, df, how=\"outer\", on=[\"company_name\"])\r\n",
    "\r\n",
    "    historical_price = historical_price.rename(columns={'price': 'price_' + file})\r\n",
    "\r\n",
    "\r\n",
    "grouped_price = historical_price.groupby(['company_name']).mean()\r\n",
    "grouped_price.to_csv('./datasets/historical_prices.csv')"
   ],
   "outputs": [],
   "metadata": {}
  },
  {
   "cell_type": "code",
   "execution_count": null,
   "source": [
    "# produce risk score based on price data\r\n",
    "import pandas as pd\r\n",
    "from fuzzywuzzy.fuzz import partial_ratio\r\n",
    "\r\n",
    "grouped_price = pd.read_csv('./datasets/historical_prices.csv')\r\n",
    "\r\n",
    "risk_score = pd.DataFrame(columns=['company_name', 'num_matches', 'num_jumps', 'max_change'])\r\n",
    "for company in grouped_price['company_name']:\r\n",
    "    print(company)\r\n",
    "        \r\n",
    "    fuzzy_matches = [ind for ind in grouped_price.index if partial_ratio(company, grouped_price.company_name[ind]) >= 90]\r\n",
    "    matched_rows = grouped_price.loc[fuzzy_matches]\r\n",
    "    mean_prices = matched_rows.mean(axis=0).dropna()\r\n",
    "\r\n",
    "    num_jumps = max_change = 0\r\n",
    "    prev_price = mean_prices[0]\r\n",
    "    for price in mean_prices[1:]:\r\n",
    "        if prev_price != price:\r\n",
    "            num_jumps += 1\r\n",
    "            change = abs((price - prev_price)/prev_price)\r\n",
    "\r\n",
    "            if  change > max_change:\r\n",
    "                max_change = change\r\n",
    "        \r\n",
    "        prev_price = price\r\n",
    "\r\n",
    "    risk_score = risk_score.append({\r\n",
    "        'company_name':company, \r\n",
    "        'num_matches': len(fuzzy_matches), \r\n",
    "        'num_jumps': num_jumps,\r\n",
    "        'max_change': max_change*100\r\n",
    "    }, ignore_index=True)\r\n",
    "\r\n",
    "normalized_risk_score = (risk_score-risk_score.mean())/risk_score.std()\r\n",
    "normalized_risk_score['company_name'] = risk_score['company_name']\r\n",
    "\r\n",
    "risk_score.to_csv('./datasets/risk_score.csv')\r\n",
    "normalized_risk_score.to_csv('./datasets/risk_score_normed.csv')"
   ],
   "outputs": [],
   "metadata": {}
  }
 ],
 "metadata": {
  "orig_nbformat": 4,
  "language_info": {
   "name": "python",
   "version": "3.9.7",
   "mimetype": "text/x-python",
   "codemirror_mode": {
    "name": "ipython",
    "version": 3
   },
   "pygments_lexer": "ipython3",
   "nbconvert_exporter": "python",
   "file_extension": ".py"
  },
  "kernelspec": {
   "name": "python3",
   "display_name": "Python 3.9.7 64-bit"
  },
  "interpreter": {
   "hash": "fe44fef87f92f48a3a32707d0df204585f471652bc0ce87358a3ce712bc24db0"
  }
 },
 "nbformat": 4,
 "nbformat_minor": 2
}