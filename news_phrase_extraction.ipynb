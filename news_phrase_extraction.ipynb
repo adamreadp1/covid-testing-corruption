{
 "cells": [
  {
   "cell_type": "code",
   "execution_count": null,
   "source": [
    "!pip install azure-ai-textanalytics==5.2.0b1\r\n",
    "!pip install bs4\r\n",
    "!pip install requests"
   ],
   "outputs": [],
   "metadata": {}
  },
  {
   "cell_type": "code",
   "execution_count": 5,
   "source": [
    "# authenticate azure text analytics client\r\n",
    "from azure.ai.textanalytics import TextAnalyticsClient\r\n",
    "from azure.core.credentials import AzureKeyCredential\r\n",
    "\r\n",
    "key = \"677e7a68d2f94932a97572bfd9505ea3\"\r\n",
    "endpoint = \"https://covid-corruption-nlp2.cognitiveservices.azure.com/\"\r\n",
    "\r\n",
    "def authenticate_client():\r\n",
    "    ta_credential = AzureKeyCredential(key)\r\n",
    "    text_analytics_client = TextAnalyticsClient(\r\n",
    "            endpoint=endpoint, \r\n",
    "            credential=ta_credential)\r\n",
    "    return text_analytics_client\r\n",
    "\r\n",
    "client = authenticate_client()\r\n"
   ],
   "outputs": [],
   "metadata": {}
  },
  {
   "cell_type": "code",
   "execution_count": null,
   "source": [
    "# perform key phrase extraction\r\n",
    "def key_phrase_extraction(client, documents=\"\"):\r\n",
    "    try:\r\n",
    "        responses = client.extract_key_phrases(documents = documents)\r\n",
    "        \r\n",
    "        key_phrases = []\r\n",
    "        for response in responses:\r\n",
    "            if response.key_phrases:\r\n",
    "                key_phrases += response.key_phrases\r\n",
    "        \r\n",
    "        return key_phrases\r\n",
    "\r\n",
    "    except Exception as err:\r\n",
    "        print(\"Encountered exception. {}\".format(err))\r\n",
    "\r\n",
    "\r\n",
    "news_source = \"sky\"\r\n",
    "f_in = open('datasets/parsed-news/{}.txt'.format(news_source), 'r')\r\n",
    "documents = [line.rstrip() for line in f_in.readlines()]\r\n",
    "num_docs = len(documents)\r\n",
    "\r\n",
    "key_phrases = []\r\n",
    "for i in range(0, num_docs, 10):\r\n",
    "    print(i)\r\n",
    "    key_phrase = key_phrase_extraction(\r\n",
    "                    client, \r\n",
    "                    documents=documents[i: min(num_docs, i+10)]\r\n",
    "    )\r\n",
    "\r\n",
    "    if key_phrase:\r\n",
    "        key_phrases += key_phrase\r\n",
    "\r\n",
    "print(key_phrases)\r\n",
    "f_out = open('datasets/parsed-news/{}_phrases.txt'.format(news_source), 'w+')\r\n",
    "for phrase in key_phrases:\r\n",
    "    phrase = '-'.join(phrase.split())\r\n",
    "    f_out.write(phrase + '\\n')"
   ],
   "outputs": [],
   "metadata": {}
  },
  {
   "cell_type": "code",
   "execution_count": null,
   "source": [
    "# opinion mining on trustpilot reviews\r\n",
    "from bs4 import BeautifulSoup\r\n",
    "import requests\r\n",
    "import pandas as pd\r\n",
    "\r\n",
    "grouped_details = pd.read_csv('datasets/grouped_details.csv')\r\n",
    "link_cols = [x for x in grouped_details.columns if 'company_link' in x]\r\n",
    "\r\n",
    "def get_reviews(x):\r\n",
    "    results = []\r\n",
    "    for cell in x:\r\n",
    "        if pd.isna(cell) or not cell:\r\n",
    "            results.append('')\r\n",
    "        else:\r\n",
    "            page = requests.get(\"https://uk.trustpilot.com/review/\"+cell)\r\n",
    "            soup = BeautifulSoup(page.content, \"html.parser\")\r\n",
    "            reviewcontent = soup.find_all('p', {'class', 'review-content__text'})\r\n",
    "            print(page)\r\n",
    "            reviews = []\r\n",
    "            for review in reviewcontent:\r\n",
    "                if not review:\r\n",
    "                    reviews.append('')\r\n",
    "                else:\r\n",
    "                    reviews.append(review.get_text())\r\n",
    "            results.append(reviews)\r\n",
    "    return results\r\n",
    "\r\n",
    "link_details = pd.DataFrame(grouped_details[link_cols])\r\n",
    "tr_reviews = link_details.apply(get_reviews)\r\n",
    "\r\n"
   ],
   "outputs": [],
   "metadata": {}
  },
  {
   "cell_type": "code",
   "execution_count": 62,
   "source": [
    "review_details = pd.DataFrame(grouped_details['company_name'])\r\n",
    "review_details['company_link'] = grouped_details['company_link_0']\r\n",
    "for col in link_cols: review_details['review_text'+col] = tr_reviews[col]\r\n",
    "review_details.to_csv('text_test.csv')\r\n",
    "tr_reviews.to_csv('review_test.csv')"
   ],
   "outputs": [],
   "metadata": {}
  },
  {
   "cell_type": "code",
   "execution_count": null,
   "source": [
    "def opinion_mining(client,documents):\r\n",
    "\r\n",
    "    result = client.analyze_sentiment(documents, show_opinion_mining=True)\r\n",
    "    doc_result = [doc for doc in result if not doc.is_error]\r\n",
    "\r\n",
    "    negative_keywords=[]\r\n",
    "    for document in doc_result:\r\n",
    "        for sentence in document.sentences:\r\n",
    "            for mined_opinion in sentence.mined_opinions:\r\n",
    "                target = mined_opinion.target\r\n",
    "                if target.sentiment == 'negative':\r\n",
    "                    negative_keywords.append(target.text)\r\n",
    "                else:\r\n",
    "                    negative_keywords.append('')\r\n",
    "    return(negative_keywords)"
   ],
   "outputs": [],
   "metadata": {}
  },
  {
   "cell_type": "code",
   "execution_count": 45,
   "source": [
    "print(tr_reviews['company_link_0'][0][1])\r\n",
    "#opinion_mining(client,tr_reviews['company_link_0'][0])"
   ],
   "outputs": [
    {
     "output_type": "stream",
     "name": "stdout",
     "text": [
      "\n",
      "                Family member used this company after returning from a amber country. They use oncologica which has shocking reviews.Day 6 and still no sign of the day 2 results.   They refuse to recognise the Royal Mail delivery time and send a email when they scan the item. Which could be up to 12 hrs later. This gives them even longer to process the test. Still no results. False advertising, trading standards and breach of contract!\n",
      "            \n"
     ]
    }
   ],
   "metadata": {}
  }
 ],
 "metadata": {
  "orig_nbformat": 4,
  "language_info": {
   "name": "python",
   "version": "3.9.7",
   "mimetype": "text/x-python",
   "codemirror_mode": {
    "name": "ipython",
    "version": 3
   },
   "pygments_lexer": "ipython3",
   "nbconvert_exporter": "python",
   "file_extension": ".py"
  },
  "kernelspec": {
   "name": "python3",
   "display_name": "Python 3.9.7 64-bit (windows store)"
  },
  "interpreter": {
   "hash": "1e278ca4e9a2ae999502812da3aa9042213e3ce53c46b5f0452fc22ced78fb5d"
  }
 },
 "nbformat": 4,
 "nbformat_minor": 2
}