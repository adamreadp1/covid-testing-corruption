{
 "cells": [
  {
   "cell_type": "code",
   "execution_count": null,
   "source": [
    "key = \"677e7a68d2f94932a97572bfd9505ea3\"\r\n",
    "endpoint = \"https://covid-corruption-nlp2.cognitiveservices.azure.com/\"\r\n",
    "\r\n",
    "from azure.ai.textanalytics import TextAnalyticsClient\r\n",
    "from azure.core.credentials import AzureKeyCredential\r\n",
    "\r\n",
    "def authenticate_client():\r\n",
    "    ta_credential = AzureKeyCredential(key)\r\n",
    "    text_analytics_client = TextAnalyticsClient(\r\n",
    "            endpoint=endpoint, \r\n",
    "            credential=ta_credential)\r\n",
    "    return text_analytics_client\r\n",
    "\r\n",
    "\r\n",
    "def key_phrase_extraction_example(client, documents=\"\"):\r\n",
    "    try:\r\n",
    "        responses = client.extract_key_phrases(documents = documents)\r\n",
    "        \r\n",
    "        key_phrases = []\r\n",
    "        for response in responses:\r\n",
    "            if response.key_phrases:\r\n",
    "                key_phrases += response.key_phrases\r\n",
    "        \r\n",
    "        return key_phrases\r\n",
    "\r\n",
    "    except Exception as err:\r\n",
    "        print(\"Encountered exception. {}\".format(err))\r\n",
    "\r\n",
    "client = authenticate_client()\r\n",
    "\r\n",
    "f_in = open('./parsed-news/sky.txt', 'r')\r\n",
    "documents = [line.rstrip() for line in f_in.readlines()]\r\n",
    "\r\n",
    "key_phrases = []\r\n",
    "for i in range(0, len(documents)//10+1):\r\n",
    "    print(i)\r\n",
    "    key_phrase = key_phrase_extraction_example(\r\n",
    "                    client, \r\n",
    "                    documents=documents[i*10: min(len(documents), (i+1)*10)]\r\n",
    "    )\r\n",
    "\r\n",
    "    if key_phrase:\r\n",
    "        key_phrases += key_phrase\r\n",
    "\r\n",
    "f_out = open('./parsed-news/sky_phrases.txt', 'w+')\r\n",
    "for phrase in key_phrases:\r\n",
    "    phrase = '-'.join(phrase.split())\r\n",
    "    f_out.write(phrase + '\\n')\r\n"
   ],
   "outputs": [],
   "metadata": {}
  }
 ],
 "metadata": {
  "orig_nbformat": 4,
  "language_info": {
   "name": "python"
  }
 },
 "nbformat": 4,
 "nbformat_minor": 2
}