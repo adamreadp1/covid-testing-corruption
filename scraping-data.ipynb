{
  "nbformat": 4,
  "nbformat_minor": 2,
  "metadata": {
    "colab": {
      "name": "Copy of Company Details (Google).ipynb",
      "provenance": []
    },
    "kernelspec": {
      "name": "python3",
      "display_name": "Python 3.9.6 64-bit (windows store)"
    },
    "language_info": {
      "name": "python",
      "version": "3.9.6",
      "mimetype": "text/x-python",
      "codemirror_mode": {
        "name": "ipython",
        "version": 3
      },
      "pygments_lexer": "ipython3",
      "nbconvert_exporter": "python",
      "file_extension": ".py"
    },
    "interpreter": {
      "hash": "1e278ca4e9a2ae999502812da3aa9042213e3ce53c46b5f0452fc22ced78fb5d"
    }
  },
  "cells": [
    {
      "cell_type": "code",
      "execution_count": 40,
      "source": [
        "# Scraping multiple timestamps of govt list of pcr providers (obtaining comany name, website, number & email)\r\n",
        "\r\n",
        "from bs4 import BeautifulSoup\r\n",
        "import pandas as pd\r\n",
        "import requests\r\n",
        "from urllib.parse import urlparse\r\n",
        "import phonenumbers\r\n",
        "import numpy as np\r\n",
        "\r\n",
        "urls = [\r\n",
        "    'https://www.find-travel-test-provider.service.gov.uk/test-type/amber', \r\n",
        "    'https://web.archive.org/web/20210519121145/https://www.find-travel-test-provider.service.gov.uk/test-type/amber',\r\n",
        "    'https://web.archive.org/web/20210520140910/https://www.find-travel-test-provider.service.gov.uk/test-type/amber',\r\n",
        "    'https://web.archive.org/web/20210526072031/https://www.find-travel-test-provider.service.gov.uk/test-type/amber',\r\n",
        "    'https://web.archive.org/web/20210529103556/https://www.find-travel-test-provider.service.gov.uk/test-type/amber',\r\n",
        "    'https://web.archive.org/web/20210531150239/https://www.find-travel-test-provider.service.gov.uk/test-type/amber',\r\n",
        "    'https://web.archive.org/web/20210604100539/https://www.find-travel-test-provider.service.gov.uk/test-type/amber',\r\n",
        "    'https://web.archive.org/web/20210618121419/https://www.find-travel-test-provider.service.gov.uk/test-type/amber',\r\n",
        "    'https://web.archive.org/web/20210626230824/https://www.find-travel-test-provider.service.gov.uk/test-type/amber',\r\n",
        "    'https://web.archive.org/web/20210629104343/https://www.find-travel-test-provider.service.gov.uk/test-type/amber',\r\n",
        "    'https://web.archive.org/web/20210701142411/https://www.find-travel-test-provider.service.gov.uk/test-type/amber',\r\n",
        "    'https://web.archive.org/web/20210708123655/https://www.find-travel-test-provider.service.gov.uk/test-type/amber',\r\n",
        "    'https://web.archive.org/web/20210713165043/https://www.find-travel-test-provider.service.gov.uk/test-type/amber',\r\n",
        "    'https://web.archive.org/web/20210729180818/https://www.find-travel-test-provider.service.gov.uk/test-type/amber',\r\n",
        "    'https://web.archive.org/web/20210808132243/https://www.find-travel-test-provider.service.gov.uk/test-type/amber',\r\n",
        "    'https://web.archive.org/web/20210811073050/https://www.find-travel-test-provider.service.gov.uk/test-type/amber',\r\n",
        "    'https://web.archive.org/web/20210812113842/https://www.find-travel-test-provider.service.gov.uk/test-type/amber',\r\n",
        "    'https://web.archive.org/web/20210817114915/https://www.find-travel-test-provider.service.gov.uk/test-type/amber',\r\n",
        "    'https://web.archive.org/web/20210818174329/https://www.find-travel-test-provider.service.gov.uk/test-type/amber',\r\n",
        "    'https://web.archive.org/web/20210823032256/https://www.find-travel-test-provider.service.gov.uk/test-type/amber',\r\n",
        "    'https://web.archive.org/web/20210824065330/https://www.find-travel-test-provider.service.gov.uk/test-type/amber'\r\n",
        "]\r\n",
        "\r\n",
        "provider_details = pd.DataFrame(columns=['company_name','company_link', 'company_number', 'company_email'])\r\n",
        "\r\n",
        "for url in urls:\r\n",
        "    print(url)\r\n",
        "    page = requests.get(url)\r\n",
        "    soup = BeautifulSoup(page.text, 'html.parser')\r\n",
        "    providers_table = soup.find('table', {'class', 'govuk-table'}).find('tbody')\r\n",
        "\r\n",
        "    url_provider_details = pd.DataFrame(columns=['company_name','company_link', 'company_number', 'company_email'])\r\n",
        "\r\n",
        "    for row in providers_table.find_all('tr'):\r\n",
        "        provider = row.find(id='provider').find('a')\r\n",
        "        name = provider.get_text().rstrip().lower()\r\n",
        "        link = provider['href']\r\n",
        "        \r\n",
        "        cells_without_id = row.find_all('td', id=None)\r\n",
        "        \r\n",
        "        link = link[43:] if 'web.archive.org' in link else link\r\n",
        "        link = urlparse(link).netloc\r\n",
        "\r\n",
        "        if len(cells_without_id) > 1:\r\n",
        "            number = cells_without_id[0].get_text()\r\n",
        "            email = cells_without_id[1].get_text()\r\n",
        "        else:\r\n",
        "            links_in_cell = cells_without_id[0].find_all('a')\r\n",
        "            number = links_in_cell[0].get_text()\r\n",
        "            email = links_in_cell[1].get_text()\r\n",
        "        \r\n",
        "        if number and len(number) >= 10:\r\n",
        "            number = ' '.join(number.rstrip().split())\r\n",
        "            number = phonenumbers.format_number(phonenumbers.parse(number, 'GB'), phonenumbers.PhoneNumberFormat.INTERNATIONAL)\r\n",
        "        else:\r\n",
        "            number = np.nan       \r\n",
        "        if email:\r\n",
        "            email = email.lower()\r\n",
        "        if link:\r\n",
        "            link = link.lower()\r\n",
        "\r\n",
        "        url_provider_details = url_provider_details.append({\r\n",
        "            'company_name': name,\r\n",
        "            'company_link': link,\r\n",
        "            'company_number': number,\r\n",
        "            'company_email': email\r\n",
        "        }, ignore_index=True)\r\n",
        "\r\n",
        "    provider_details = pd.merge(provider_details, url_provider_details, how=\"outer\", on=['company_name','company_link','company_number','company_email'])      \r\n",
        "    "
      ],
      "outputs": [
        {
          "output_type": "stream",
          "name": "stdout",
          "text": [
            "https://www.find-travel-test-provider.service.gov.uk/test-type/amber\n",
            "https://web.archive.org/web/20210519121145/https://www.find-travel-test-provider.service.gov.uk/test-type/amber\n",
            "https://web.archive.org/web/20210520140910/https://www.find-travel-test-provider.service.gov.uk/test-type/amber\n",
            "https://web.archive.org/web/20210526072031/https://www.find-travel-test-provider.service.gov.uk/test-type/amber\n",
            "https://web.archive.org/web/20210529103556/https://www.find-travel-test-provider.service.gov.uk/test-type/amber\n",
            "https://web.archive.org/web/20210531150239/https://www.find-travel-test-provider.service.gov.uk/test-type/amber\n",
            "https://web.archive.org/web/20210604100539/https://www.find-travel-test-provider.service.gov.uk/test-type/amber\n",
            "https://web.archive.org/web/20210618121419/https://www.find-travel-test-provider.service.gov.uk/test-type/amber\n",
            "https://web.archive.org/web/20210626230824/https://www.find-travel-test-provider.service.gov.uk/test-type/amber\n",
            "https://web.archive.org/web/20210629104343/https://www.find-travel-test-provider.service.gov.uk/test-type/amber\n",
            "https://web.archive.org/web/20210701142411/https://www.find-travel-test-provider.service.gov.uk/test-type/amber\n",
            "https://web.archive.org/web/20210708123655/https://www.find-travel-test-provider.service.gov.uk/test-type/amber\n",
            "https://web.archive.org/web/20210713165043/https://www.find-travel-test-provider.service.gov.uk/test-type/amber\n",
            "https://web.archive.org/web/20210729180818/https://www.find-travel-test-provider.service.gov.uk/test-type/amber\n",
            "https://web.archive.org/web/20210808132243/https://www.find-travel-test-provider.service.gov.uk/test-type/amber\n",
            "https://web.archive.org/web/20210811073050/https://www.find-travel-test-provider.service.gov.uk/test-type/amber\n",
            "https://web.archive.org/web/20210812113842/https://www.find-travel-test-provider.service.gov.uk/test-type/amber\n",
            "https://web.archive.org/web/20210817114915/https://www.find-travel-test-provider.service.gov.uk/test-type/amber\n",
            "https://web.archive.org/web/20210818174329/https://www.find-travel-test-provider.service.gov.uk/test-type/amber\n",
            "https://web.archive.org/web/20210823032256/https://www.find-travel-test-provider.service.gov.uk/test-type/amber\n",
            "https://web.archive.org/web/20210824065330/https://www.find-travel-test-provider.service.gov.uk/test-type/amber\n"
          ]
        }
      ],
      "metadata": {
        "colab": {
          "base_uri": "https://localhost:8080/"
        },
        "id": "d1ff0gsQpq9r",
        "outputId": "922023be-7a57-4a15-8bf1-1d7426b7feb7"
      }
    },
    {
      "cell_type": "code",
      "execution_count": 41,
      "source": [
        "# removing duplicate rows\r\n",
        "overall_df = pd.DataFrame(columns=['company_name'])\r\n",
        "for category in ['company_number', 'company_email', 'company_link']:\r\n",
        "    provider_numbers = provider_details[['company_name', category]].drop_duplicates()\r\n",
        "    df1 = (provider_numbers.set_index(['company_name', provider_numbers.groupby('company_name').cumcount()])[category]\r\n",
        "            .unstack(fill_value='')\r\n",
        "            .add_prefix(category+'_')\r\n",
        "            .reset_index())\r\n",
        "\r\n",
        "    df1.to_csv('provider_details_' + category + '.csv')\r\n",
        "    overall_df = pd.merge(overall_df, df1, how='outer',on=['company_name'])\r\n",
        "\r\n",
        "overall_df.to_csv('overall_df.csv')\r\n",
        "\r\n"
      ],
      "outputs": [],
      "metadata": {
        "id": "RqV0oOlhqP3x"
      }
    },
    {
      "cell_type": "code",
      "execution_count": 42,
      "source": [
        "# validating phone numbers\r\n",
        "from phonenumbers import carrier, timezone, geocoder\r\n",
        "\r\n",
        "phone_cols = [x for x in overall_df if 'company_number' in x]\r\n",
        "print(phone_cols)\r\n",
        "validated_df = overall_df\r\n",
        "for column in phone_cols:\r\n",
        "    results = []\r\n",
        "    for i in overall_df.index:\r\n",
        "        cell = overall_df[column][i]\r\n",
        "        if pd.isna(cell) or len(str(cell)) < 9:\r\n",
        "            results.append('')\r\n",
        "        else:\r\n",
        "            comp_number = cell\r\n",
        "            number = phonenumbers.parse(str(comp_number),'GB')\r\n",
        "            valid = phonenumbers.is_valid_number(number)\r\n",
        "            results.append(valid)\r\n",
        "    \r\n",
        "    validated_df['is_valid_'+column] = results\r\n",
        "\r\n",
        "validated_df.to_csv('validated_df.csv')\r\n",
        "\r\n",
        "\r\n",
        "# overall_df['Number Validity'] = results\r\n",
        "\r\n",
        "# print(results.count(True))\r\n",
        "# print(results.count(False))\r\n",
        "# print(results.count('N/A'))"
      ],
      "outputs": [
        {
          "output_type": "stream",
          "name": "stdout",
          "text": [
            "['company_number_0', 'company_number_1', 'company_number_2', 'company_number_3']\n"
          ]
        }
      ],
      "metadata": {}
    },
    {
      "cell_type": "code",
      "execution_count": 62,
      "source": [
        "# validating emails\r\n",
        "from validate_email import validate_email\r\n",
        "\r\n",
        "email_cols = [x for x in overall_df if 'company_email' in x]\r\n",
        "validated_df2 = overall_df\r\n",
        "for column in email_cols:\r\n",
        "    results = []\r\n",
        "    for i in overall_df.index:\r\n",
        "        cell = overall_df[column][i]\r\n",
        "        if not cell:\r\n",
        "            results.append('')\r\n",
        "        else:\r\n",
        "            valid = validate_email(email_address=cell)\r\n",
        "            results.append(valid)\r\n",
        "    \r\n",
        "    validated_df2['is_valid_'+column] = results\r\n",
        "\r\n",
        "validated_df2.to_csv('validated_df2.csv')\r\n"
      ],
      "outputs": [],
      "metadata": {}
    },
    {
      "cell_type": "code",
      "execution_count": null,
      "source": [
        "# obtaining trustpilot links\r\n",
        "link_cols = [x for x in overall_df if 'company_link' in x]\r\n",
        "trustpilot_df = overall_df\r\n",
        "for column in link_cols:\r\n",
        "    results = []\r\n",
        "    for i in overall_df.index:\r\n",
        "        cell = overall_df[column][i]\r\n",
        "        if pd.isna(cell) or not cell:\r\n",
        "            results.append('')\r\n",
        "        else:\r\n",
        "            page = requests.get(\"https://uk.trustpilot.com/review/\"+cell)\r\n",
        "            soup = BeautifulSoup(page.content, \"html.parser\")\r\n",
        "            score = soup.find('p', {'class', 'header_trustscore'}).get_text()\r\n",
        "            results.append(score)\r\n",
        "\r\n",
        "    trustpilot_df['trustpilot_'+column] = results\r\n",
        "\r\n",
        "trustpilot_df.to_csv('trustpilot_df.csv')\r\n",
        "\r\n",
        "print(results)"
      ],
      "outputs": [],
      "metadata": {}
    },
    {
      "cell_type": "code",
      "execution_count": null,
      "source": [],
      "outputs": [],
      "metadata": {}
    }
  ]
}