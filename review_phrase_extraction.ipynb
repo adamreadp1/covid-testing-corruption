{
 "cells": [
  {
   "cell_type": "code",
   "execution_count": null,
   "source": [
    "!pip install azure-ai-textanalytics==5.2.0b1\r\n",
    "!pip install bs4\r\n",
    "!pip install requests\r\n",
    "\r\n",
    "from azure.ai.textanalytics import TextAnalyticsClient\r\n",
    "from azure.core.credentials import AzureKeyCredential\r\n",
    "from bs4 import BeautifulSoup\r\n",
    "import requests\r\n",
    "import pandas as pd"
   ],
   "outputs": [],
   "metadata": {}
  },
  {
   "cell_type": "code",
   "execution_count": 2,
   "source": [
    "# authenticate azure text analytics client\r\n",
    "key = \"677e7a68d2f94932a97572bfd9505ea3\"\r\n",
    "endpoint = \"https://covid-corruption-nlp2.cognitiveservices.azure.com/\"\r\n",
    "\r\n",
    "def authenticate_client():\r\n",
    "    ta_credential = AzureKeyCredential(key)\r\n",
    "    text_analytics_client = TextAnalyticsClient(\r\n",
    "            endpoint=endpoint, \r\n",
    "            credential=ta_credential)\r\n",
    "    return text_analytics_client\r\n",
    "\r\n",
    "client = authenticate_client()"
   ],
   "outputs": [],
   "metadata": {}
  },
  {
   "cell_type": "code",
   "execution_count": null,
   "source": [
    "# opinion mining on trustpilot reviews\r\n",
    "\r\n",
    "\r\n",
    "grouped_details = pd.read_csv('./datasets/grouped_details.csv')\r\n",
    "link_cols = [x for x in grouped_details.columns if 'company_link' in x]\r\n",
    "\r\n",
    "def get_reviews(x):\r\n",
    "    results = []\r\n",
    "    for cell in x:\r\n",
    "        if pd.isna(cell) or not cell:\r\n",
    "            results.append('')\r\n",
    "        else:\r\n",
    "            page = requests.get(\"https://uk.trustpilot.com/review/\"+cell)\r\n",
    "            soup = BeautifulSoup(page.content, \"html.parser\")\r\n",
    "            reviewcontent = soup.find_all('p', {'class', 'review-content__text'})\r\n",
    "            \r\n",
    "            results.append([review.get_text().rstrip() for review in reviewcontent if review])\r\n",
    "    return results\r\n",
    "\r\n",
    "link_details = pd.DataFrame(grouped_details[link_cols])\r\n",
    "tr_reviews = link_details.apply(get_reviews)\r\n",
    "tr_reviews['company_name'] = grouped_details['company_name']\r\n",
    "\r\n",
    "tr_reviews.to_csv('./datasets/reviews.csv', index=False)"
   ],
   "outputs": [],
   "metadata": {}
  },
  {
   "cell_type": "code",
   "execution_count": null,
   "source": [
    "# \r\n",
    "tr_reviews =  pd.read_csv('./datasets/reviews/reviews.csv')\r\n",
    "review_cols = [x for x in tr_reviews.columns if 'company_link' in x]\r\n",
    "\r\n",
    "def opinion_mining(client, documents):\r\n",
    "    result = client.analyze_sentiment(documents, show_opinion_mining=True)\r\n",
    "    doc_result = [doc for doc in result if not doc.is_error]\r\n",
    "\r\n",
    "    negative_keywords=[]\r\n",
    "    for document in doc_result:\r\n",
    "        for sentence in document.sentences:\r\n",
    "            for mined_opinion in sentence.mined_opinions:\r\n",
    "                if mined_opinion.target.sentiment == 'negative':\r\n",
    "                    negative_keywords.append(mined_opinion.assessments[0].text)\r\n",
    "                else:\r\n",
    "                    negative_keywords.append('')\r\n",
    "    return negative_keywords \r\n",
    "\r\n",
    "def review_keywords(x):\r\n",
    "    results = []\r\n",
    "    for cell in x:\r\n",
    "        words = ''\r\n",
    "        if type(cell) == str:\r\n",
    "            review = eval(cell)\r\n",
    "            num_docs = len(review)\r\n",
    "\r\n",
    "            for i in range(0, num_docs, 10):\r\n",
    "                words += ' '.join(opinion_mining(\r\n",
    "                    client, \r\n",
    "                    documents=review[i: min(num_docs, i+10)])\r\n",
    "                )\r\n",
    "\r\n",
    "        results.append(words)\r\n",
    "    return results\r\n",
    "\r\n",
    "\r\n",
    "review_details = pd.DataFrame(tr_reviews[link_cols])\r\n",
    "review_keywords = review_details.apply(review_keywords)\r\n",
    "review_keywords['company_name'] = tr_reviews['company_name']\r\n",
    "\r\n",
    "review_keywords.to_csv('./datasets/tp_keywords.csv', index=False)"
   ],
   "outputs": [],
   "metadata": {}
  },
  {
   "cell_type": "code",
   "execution_count": null,
   "source": [
    "review_keywords = pd.read_csv('./datasets/tp_keywords.csv')\r\n",
    "review_keywords = review_keywords.drop(review_keywords.columns[0], axis=1)\r\n",
    "\r\n",
    "review_keywords['company_link_0'] + review_keywords['company_link_1']"
   ],
   "outputs": [],
   "metadata": {}
  }
 ],
 "metadata": {
  "orig_nbformat": 4,
  "language_info": {
   "name": "python",
   "version": "3.9.7",
   "mimetype": "text/x-python",
   "codemirror_mode": {
    "name": "ipython",
    "version": 3
   },
   "pygments_lexer": "ipython3",
   "nbconvert_exporter": "python",
   "file_extension": ".py"
  },
  "kernelspec": {
   "name": "python3",
   "display_name": "Python 3.9.7  ('covid_corruption_venv': venv)"
  },
  "interpreter": {
   "hash": "5f8aec9e558577a87b5b61cddb74ed49406d2acbe45acb8a6a200a35f976c5eb"
  }
 },
 "nbformat": 4,
 "nbformat_minor": 2
}